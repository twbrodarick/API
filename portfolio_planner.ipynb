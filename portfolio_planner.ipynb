{
 "cells": [
  {
   "cell_type": "markdown",
   "metadata": {},
   "source": [
    "### import numpy as np\n",
    "import pandas as pd\n",
    "import os\n",
    "from datetime import datetime, timedelta\n",
    "import matplotlib.pyplot as plt\n",
    "%matplotlib inline"
   ]
  },
  {
   "cell_type": "code",
   "execution_count": 3,
   "metadata": {},
   "outputs": [],
   "source": [
    "\n",
    "import numpy as np\n",
    "import pandas as pd\n",
    "import os\n",
    "from datetime import datetime, timedelta\n",
    "import matplotlib.pyplot as plt\n",
    "%matplotlib inline\n"
   ]
  },
  {
   "cell_type": "code",
   "execution_count": 4,
   "metadata": {},
   "outputs": [],
   "source": [
    "np.random.seed(42)"
   ]
  },
  {
   "cell_type": "markdown",
   "metadata": {},
   "source": [
    "# Portfolio Planner\n",
    "\n",
    "In this activity, you will use the iexfinance api to grab historical data for a 60/40 portfolio using `SPY` to represent the stock portion and `AGG` to represent the bonds."
   ]
  },
  {
   "cell_type": "code",
   "execution_count": 5,
   "metadata": {},
   "outputs": [],
   "source": [
    "import alpaca_trade_api as tradeapi\n",
    "\n",
    "# Set Alpaca API key and secret\n",
    "alpaca_api_key = os.getenv(\"ALPACA_API_KEY\")\n",
    "alpaca_secret_key = os.getenv(\"ALPACA_SECRET_KEY\")\n",
    "\n",
    "# Initialize the API\n",
    "api = tradeapi.REST(alpaca_api_key, alpaca_secret_key, api_version='v2')"
   ]
  },
  {
   "cell_type": "markdown",
   "metadata": {},
   "source": [
    "# Data Collection\n",
    "\n",
    "In this step, you will need to use the IEX api to fetch closing prices for the `SPY` and `AGG` tickers. Save the results as a pandas DataFrame"
   ]
  },
  {
   "cell_type": "code",
   "execution_count": 6,
   "metadata": {},
   "outputs": [
    {
     "data": {
      "text/html": [
       "<div>\n",
       "<style scoped>\n",
       "    .dataframe tbody tr th:only-of-type {\n",
       "        vertical-align: middle;\n",
       "    }\n",
       "\n",
       "    .dataframe tbody tr th {\n",
       "        vertical-align: top;\n",
       "    }\n",
       "\n",
       "    .dataframe thead th {\n",
       "        text-align: right;\n",
       "    }\n",
       "</style>\n",
       "<table border=\"1\" class=\"dataframe\">\n",
       "  <thead>\n",
       "    <tr style=\"text-align: right;\">\n",
       "      <th></th>\n",
       "      <th>AGG</th>\n",
       "      <th>SPY</th>\n",
       "    </tr>\n",
       "  </thead>\n",
       "  <tbody>\n",
       "    <tr>\n",
       "      <th>2019-12-05</th>\n",
       "      <td>112.69</td>\n",
       "      <td>312.05</td>\n",
       "    </tr>\n",
       "    <tr>\n",
       "      <th>2019-12-06</th>\n",
       "      <td>112.54</td>\n",
       "      <td>314.84</td>\n",
       "    </tr>\n",
       "    <tr>\n",
       "      <th>2019-12-09</th>\n",
       "      <td>112.58</td>\n",
       "      <td>313.87</td>\n",
       "    </tr>\n",
       "    <tr>\n",
       "      <th>2019-12-10</th>\n",
       "      <td>112.54</td>\n",
       "      <td>313.55</td>\n",
       "    </tr>\n",
       "    <tr>\n",
       "      <th>2019-12-11</th>\n",
       "      <td>112.84</td>\n",
       "      <td>314.41</td>\n",
       "    </tr>\n",
       "  </tbody>\n",
       "</table>\n",
       "</div>"
      ],
      "text/plain": [
       "               AGG     SPY\n",
       "2019-12-05  112.69  312.05\n",
       "2019-12-06  112.54  314.84\n",
       "2019-12-09  112.58  313.87\n",
       "2019-12-10  112.54  313.55\n",
       "2019-12-11  112.84  314.41"
      ]
     },
     "execution_count": 6,
     "metadata": {},
     "output_type": "execute_result"
    }
   ],
   "source": [
    "tickers = [\"AGG\", \"SPY\"]\n",
    "\n",
    "timeframe = '1D'\n",
    "end_date = datetime.now()\n",
    "start_date = end_date + timedelta(-365)\n",
    "\n",
    "# Get 1 year's worth of historical data for AAPL\n",
    "df = api.get_barset(\n",
    "    tickers,\n",
    "    timeframe,\n",
    "    limit=None,\n",
    "    start=start_date,\n",
    "    end=end_date,\n",
    "    after=None,\n",
    "    until=None,\n",
    ").df\n",
    "df = df.droplevel(axis=1, level=0)\n",
    "df.drop(columns=['open', 'high', 'low', 'volume'], inplace=True)\n",
    "df.index = df.index.date\n",
    "#cross-referenced close dates to last year and subbed in correct tickers as column names\n",
    "columns=[\"AGG\", \"SPY\"]\n",
    "df.columns = columns\n",
    "df.head()"
   ]
  },
  {
   "cell_type": "markdown",
   "metadata": {},
   "source": [
    "# Monte Carlo Simulation\n",
    "\n",
    "In this step, you will run Monte Carlo Simulations for your portfolio to model portfolio performance at different retirement ages. \n",
    "\n",
    "Complete the following steps:\n",
    "1. Calculate the daily returns for the SPY and AGG closing prices.\n",
    "2. Calculate volatility for both the SPY and AGG closing prices.\n",
    "3. Find the last day's closing price for both stocks and save those as variables.\n",
    "4. Run a Monte Carlo Simulation of at least 500 iterations and generate at least 30 years of closing prices\n",
    "\n",
    "### HINTS:\n",
    "There are 252 trading days per year, so the number of records to generate for each Monte Carlo run will be 252 days * 30 years"
   ]
  },
  {
   "cell_type": "code",
   "execution_count": 7,
   "metadata": {},
   "outputs": [],
   "source": [
    "# Calculate the daily roi for the stocks\n",
    "daily_returns = df.pct_change()\n",
    "daily_returns_AGG = daily_returns['AGG']\n",
    "daily_returns_SPY = daily_returns['SPY']\n",
    "avg_return_AGG = daily_returns_AGG.mean()\n",
    "avg_return_SPY = daily_returns_SPY.mean()"
   ]
  },
  {
   "cell_type": "code",
   "execution_count": 8,
   "metadata": {},
   "outputs": [],
   "source": [
    "# Calculate volatility\n",
    "std_dev = daily_returns.std()\n",
    "std_dev_AGG = std_dev['AGG']\n",
    "std_dev_SPY = std_dev['SPY']"
   ]
  },
  {
   "cell_type": "code",
   "execution_count": 9,
   "metadata": {},
   "outputs": [
    {
     "name": "stdout",
     "output_type": "stream",
     "text": [
      "117.43 293.19\n"
     ]
    }
   ],
   "source": [
    "# Save the last day's closing price\n",
    "last_close_AGG = df['AGG'][-1]\n",
    "last_close_SPY = df['SPY'][-1]\n",
    "print(last_close_AGG, last_close_SPY)"
   ]
  },
  {
   "cell_type": "code",
   "execution_count": 10,
   "metadata": {},
   "outputs": [],
   "source": [
    "# Setup the Monte Carlo Parameters\n",
    "number_simulations = 500\n",
    "number_records = 252 * 30\n",
    "monte_carlo_price_df = pd.DataFrame()\n",
    "monte_carlo_cum_returns_df = pd.DataFrame()\n"
   ]
  },
  {
   "cell_type": "code",
   "execution_count": 11,
   "metadata": {},
   "outputs": [
    {
     "data": {
      "text/html": [
       "<div>\n",
       "<style scoped>\n",
       "    .dataframe tbody tr th:only-of-type {\n",
       "        vertical-align: middle;\n",
       "    }\n",
       "\n",
       "    .dataframe tbody tr th {\n",
       "        vertical-align: top;\n",
       "    }\n",
       "\n",
       "    .dataframe thead th {\n",
       "        text-align: right;\n",
       "    }\n",
       "</style>\n",
       "<table border=\"1\" class=\"dataframe\">\n",
       "  <thead>\n",
       "    <tr style=\"text-align: right;\">\n",
       "      <th></th>\n",
       "      <th>0</th>\n",
       "      <th>1</th>\n",
       "      <th>2</th>\n",
       "      <th>3</th>\n",
       "      <th>4</th>\n",
       "      <th>5</th>\n",
       "      <th>6</th>\n",
       "      <th>7</th>\n",
       "      <th>8</th>\n",
       "      <th>9</th>\n",
       "      <th>...</th>\n",
       "      <th>490</th>\n",
       "      <th>491</th>\n",
       "      <th>492</th>\n",
       "      <th>493</th>\n",
       "      <th>494</th>\n",
       "      <th>495</th>\n",
       "      <th>496</th>\n",
       "      <th>497</th>\n",
       "      <th>498</th>\n",
       "      <th>499</th>\n",
       "    </tr>\n",
       "  </thead>\n",
       "  <tbody>\n",
       "    <tr>\n",
       "      <th>0</th>\n",
       "      <td>1.000000</td>\n",
       "      <td>1.000000</td>\n",
       "      <td>1.000000</td>\n",
       "      <td>1.000000</td>\n",
       "      <td>1.000000</td>\n",
       "      <td>1.000000</td>\n",
       "      <td>1.000000</td>\n",
       "      <td>1.000000</td>\n",
       "      <td>1.000000</td>\n",
       "      <td>1.000000</td>\n",
       "      <td>...</td>\n",
       "      <td>1.000000</td>\n",
       "      <td>1.000000</td>\n",
       "      <td>1.000000</td>\n",
       "      <td>1.000000</td>\n",
       "      <td>1.000000</td>\n",
       "      <td>1.000000</td>\n",
       "      <td>1.000000</td>\n",
       "      <td>1.000000</td>\n",
       "      <td>1.000000</td>\n",
       "      <td>1.000000</td>\n",
       "    </tr>\n",
       "    <tr>\n",
       "      <th>1</th>\n",
       "      <td>0.999221</td>\n",
       "      <td>0.999296</td>\n",
       "      <td>0.992444</td>\n",
       "      <td>1.018485</td>\n",
       "      <td>1.043793</td>\n",
       "      <td>0.975636</td>\n",
       "      <td>0.986695</td>\n",
       "      <td>1.049396</td>\n",
       "      <td>1.000743</td>\n",
       "      <td>0.979089</td>\n",
       "      <td>...</td>\n",
       "      <td>1.005459</td>\n",
       "      <td>0.968525</td>\n",
       "      <td>1.004533</td>\n",
       "      <td>1.007785</td>\n",
       "      <td>0.983364</td>\n",
       "      <td>1.009780</td>\n",
       "      <td>1.003638</td>\n",
       "      <td>1.023877</td>\n",
       "      <td>0.990174</td>\n",
       "      <td>0.976646</td>\n",
       "    </tr>\n",
       "    <tr>\n",
       "      <th>2</th>\n",
       "      <td>1.029607</td>\n",
       "      <td>1.013021</td>\n",
       "      <td>1.008418</td>\n",
       "      <td>0.981115</td>\n",
       "      <td>1.032009</td>\n",
       "      <td>0.971992</td>\n",
       "      <td>0.972078</td>\n",
       "      <td>1.021549</td>\n",
       "      <td>0.995480</td>\n",
       "      <td>0.967573</td>\n",
       "      <td>...</td>\n",
       "      <td>1.017344</td>\n",
       "      <td>0.972997</td>\n",
       "      <td>1.007857</td>\n",
       "      <td>1.018960</td>\n",
       "      <td>0.984606</td>\n",
       "      <td>0.961909</td>\n",
       "      <td>1.005339</td>\n",
       "      <td>1.015547</td>\n",
       "      <td>0.979548</td>\n",
       "      <td>0.989928</td>\n",
       "    </tr>\n",
       "    <tr>\n",
       "      <th>3</th>\n",
       "      <td>1.024426</td>\n",
       "      <td>1.008405</td>\n",
       "      <td>1.006475</td>\n",
       "      <td>0.984209</td>\n",
       "      <td>1.021882</td>\n",
       "      <td>0.944146</td>\n",
       "      <td>0.984961</td>\n",
       "      <td>0.995352</td>\n",
       "      <td>0.992792</td>\n",
       "      <td>0.996704</td>\n",
       "      <td>...</td>\n",
       "      <td>1.018610</td>\n",
       "      <td>0.947057</td>\n",
       "      <td>1.008393</td>\n",
       "      <td>1.033683</td>\n",
       "      <td>0.965570</td>\n",
       "      <td>0.969490</td>\n",
       "      <td>1.024408</td>\n",
       "      <td>0.988047</td>\n",
       "      <td>0.986701</td>\n",
       "      <td>1.004582</td>\n",
       "    </tr>\n",
       "    <tr>\n",
       "      <th>4</th>\n",
       "      <td>1.044526</td>\n",
       "      <td>1.015002</td>\n",
       "      <td>1.022276</td>\n",
       "      <td>0.998741</td>\n",
       "      <td>1.042714</td>\n",
       "      <td>0.953887</td>\n",
       "      <td>1.001705</td>\n",
       "      <td>0.969650</td>\n",
       "      <td>0.997375</td>\n",
       "      <td>1.012386</td>\n",
       "      <td>...</td>\n",
       "      <td>1.005650</td>\n",
       "      <td>0.958308</td>\n",
       "      <td>1.008016</td>\n",
       "      <td>1.006303</td>\n",
       "      <td>0.969013</td>\n",
       "      <td>0.964217</td>\n",
       "      <td>1.011311</td>\n",
       "      <td>0.997450</td>\n",
       "      <td>0.977557</td>\n",
       "      <td>1.004956</td>\n",
       "    </tr>\n",
       "  </tbody>\n",
       "</table>\n",
       "<p>5 rows × 500 columns</p>\n",
       "</div>"
      ],
      "text/plain": [
       "        0         1         2         3         4         5         6    \\\n",
       "0  1.000000  1.000000  1.000000  1.000000  1.000000  1.000000  1.000000   \n",
       "1  0.999221  0.999296  0.992444  1.018485  1.043793  0.975636  0.986695   \n",
       "2  1.029607  1.013021  1.008418  0.981115  1.032009  0.971992  0.972078   \n",
       "3  1.024426  1.008405  1.006475  0.984209  1.021882  0.944146  0.984961   \n",
       "4  1.044526  1.015002  1.022276  0.998741  1.042714  0.953887  1.001705   \n",
       "\n",
       "        7         8         9    ...       490       491       492       493  \\\n",
       "0  1.000000  1.000000  1.000000  ...  1.000000  1.000000  1.000000  1.000000   \n",
       "1  1.049396  1.000743  0.979089  ...  1.005459  0.968525  1.004533  1.007785   \n",
       "2  1.021549  0.995480  0.967573  ...  1.017344  0.972997  1.007857  1.018960   \n",
       "3  0.995352  0.992792  0.996704  ...  1.018610  0.947057  1.008393  1.033683   \n",
       "4  0.969650  0.997375  1.012386  ...  1.005650  0.958308  1.008016  1.006303   \n",
       "\n",
       "        494       495       496       497       498       499  \n",
       "0  1.000000  1.000000  1.000000  1.000000  1.000000  1.000000  \n",
       "1  0.983364  1.009780  1.003638  1.023877  0.990174  0.976646  \n",
       "2  0.984606  0.961909  1.005339  1.015547  0.979548  0.989928  \n",
       "3  0.965570  0.969490  1.024408  0.988047  0.986701  1.004582  \n",
       "4  0.969013  0.964217  1.011311  0.997450  0.977557  1.004956  \n",
       "\n",
       "[5 rows x 500 columns]"
      ]
     },
     "execution_count": 11,
     "metadata": {},
     "output_type": "execute_result"
    }
   ],
   "source": [
    "# Run the Monte Carlo Simulation\n",
    "    \n",
    "for x in range(number_simulations):\n",
    "    simulated_prices_AGG = [last_close_AGG]\n",
    "    simulated_prices_SPY = [last_close_SPY]\n",
    "    \n",
    "    for _ in range(number_records):\n",
    "        \n",
    "\n",
    "        simulated_price_AGG = simulated_prices_AGG[-1] * (1 + np.random.normal(avg_return_AGG, std_dev_AGG))\n",
    "        simulated_price_SPY = simulated_prices_SPY[-1] * (1 + np.random.normal(avg_return_SPY, std_dev_SPY))\n",
    "        \n",
    "        \n",
    "        simulated_prices_AGG.append(simulated_price_AGG)\n",
    "        simulated_prices_SPY.append(simulated_price_SPY)\n",
    "    \n",
    "    \n",
    "    monte_carlo_price_df[\"AGG prices\"] = pd.Series(simulated_prices_AGG)\n",
    "    monte_carlo_price_df[\"SPY prices\"] = pd.Series(simulated_prices_SPY)\n",
    "    \n",
    "   \n",
    "    monte_carlo_daily_returns = monte_carlo_price_df.pct_change()\n",
    "    \n",
    "    #portfolio weights (40% AGG; 60% SPY for 40%/60% bond/stock portfolio\n",
    "    weights = [0.40, 0.60]\n",
    "\n",
    "    weighted_monte_carlo_daily_returns = monte_carlo_daily_returns.dot(weights)\n",
    "    \n",
    "    \n",
    "\n",
    "    monte_carlo_cum_returns_df[x] = (1 + weighted_monte_carlo_daily_returns.fillna(0)).cumprod()\n",
    "    \n",
    "\n",
    "# monte_carlo_cum_returns_df = pd.Series(monte_carlo_cum_returns)\n",
    "monte_carlo_cum_returns_df.head()"
   ]
  },
  {
   "cell_type": "code",
   "execution_count": 12,
   "metadata": {},
   "outputs": [
    {
     "data": {
      "text/plain": [
       "<matplotlib.axes._subplots.AxesSubplot at 0x19bf2768348>"
      ]
     },
     "execution_count": 12,
     "metadata": {},
     "output_type": "execute_result"
    },
    {
     "data": {
      "image/png": "[encoded data removed]",
      "text/plain": [
       "<Figure size 1080x360 with 1 Axes>"
      ]
     },
     "metadata": {
      "needs_background": "light"
     },
     "output_type": "display_data"
    }
   ],
   "source": [
    "# Visualize the Simulation\n",
    "\n",
    "monte_carlo_cum_returns_df.plot(legend=None, figsize=(15,5), title=f\"{number_simulations} Simulations of Cumulative Portfolio Return Trajectories Over the Next 30 Years\")"
   ]
  },
  {
   "cell_type": "code",
   "execution_count": 13,
   "metadata": {},
   "outputs": [
    {
     "data": {
      "text/plain": [
       "0    0.491304\n",
       "1    0.318769\n",
       "2    0.355962\n",
       "3    0.129668\n",
       "4    0.348046\n",
       "Name: 7560, dtype: float64"
      ]
     },
     "execution_count": 13,
     "metadata": {},
     "output_type": "execute_result"
    }
   ],
   "source": [
    "# Select the last row for the cumulative returns (cumulative returns at 30 years)\n",
    "cum_returns_30 = monte_carlo_cum_returns_df.iloc[-1,:]\n",
    "cum_returns_30.head()"
   ]
  },
  {
   "cell_type": "code",
   "execution_count": 15,
   "metadata": {},
   "outputs": [
    {
     "data": {
      "text/plain": [
       "0    0.185140\n",
       "1    0.122331\n",
       "2    0.119911\n",
       "3    0.049387\n",
       "4    0.134619\n",
       "Name: 7550, dtype: float64"
      ]
     },
     "execution_count": 15,
     "metadata": {},
     "output_type": "execute_result"
    }
   ],
   "source": [
    "# Select the last row for the cumulative returns (cumulative returns at 20 years)\n",
    "cum_returns_20 = monte_carlo_cum_returns_df.iloc[-11,:]\n",
    "cum_returns_20.head()"
   ]
  },
  {
   "cell_type": "code",
   "execution_count": 16,
   "metadata": {},
   "outputs": [
    {
     "name": "stdout",
     "output_type": "stream",
     "text": [
      "Our 90% confidence interval for our 20-year portfolio return is 0.05    0.016472\n",
      "0.95    2.483127\n",
      "Name: 7550, dtype: float64.\n",
      "Our 90% confidence interval for our 30-year portfolio return is 0.05    0.015814\n",
      "0.95    2.483868\n",
      "Name: 7560, dtype: float64.\n"
     ]
    }
   ],
   "source": [
    "# Display the 90% confidence interval for the ending returns\n",
    "ci90_20 = cum_returns_20.quantile(q=[0.05, 0.95])\n",
    "ci90_30 = cum_returns_30.quantile(q=[0.05, 0.95])\n",
    "print(f\"Our 90% confidence interval for our 20-year portfolio return is {ci90_20}.\")\n",
    "print(f\"Our 90% confidence interval for our 30-year portfolio return is {ci90_30}.\")"
   ]
  },
  {
   "cell_type": "code",
   "execution_count": 17,
   "metadata": {},
   "outputs": [
    {
     "data": {
      "text/plain": [
       "<matplotlib.lines.Line2D at 0x2a870f472c8>"
      ]
     },
     "execution_count": 17,
     "metadata": {},
     "output_type": "execute_result"
    },
    {
     "data": {
      "image/png": "[encoded data removed]",
      "text/plain": [
       "<Figure size 720x360 with 1 Axes>"
      ]
     },
     "metadata": {
      "needs_background": "light"
     },
     "output_type": "display_data"
    }
   ],
   "source": [
    "# Visualize the distribution of the ending returns\n",
    "plt.figure();\n",
    "cum_returns_20.plot.hist(density=True, figsize=(10,5), bins=25)\n",
    "plt.axvline(ci90_20.iloc[0], color='r')\n",
    "plt.axvline(ci90_20.iloc[1], color='g')"
   ]
  },
  {
   "cell_type": "code",
   "execution_count": 18,
   "metadata": {},
   "outputs": [
    {
     "data": {
      "text/plain": [
       "<matplotlib.lines.Line2D at 0x2a870e0d288>"
      ]
     },
     "execution_count": 18,
     "metadata": {},
     "output_type": "execute_result"
    },
    {
     "data": {
      "image/png": "[encoded data removed]",
      "text/plain": [
       "<Figure size 720x360 with 1 Axes>"
      ]
     },
     "metadata": {
      "needs_background": "light"
     },
     "output_type": "display_data"
    }
   ],
   "source": [
    "plt.figure();\n",
    "cum_returns_30.plot.hist(density=True, figsize=(10,5), bins=25)\n",
    "plt.axvline(ci90_30.iloc[0], color='r')\n",
    "plt.axvline(ci90_30.iloc[1], color='g')"
   ]
  },
  {
   "cell_type": "markdown",
   "metadata": {},
   "source": [
    "---"
   ]
  },
  {
   "cell_type": "markdown",
   "metadata": {},
   "source": [
    "# Retirement Analysis\n",
    "\n",
    "In this section, you will use the monte carlo model to answer the following retirement planning questions:\n",
    "\n",
    "1. What are the expected cumulative returns at 30 years for the 10th, 50th, and 90th percentiles?\n",
    "2. Given an initial investment of `$20,000`, what is the expected portfolio return in dollars at the 10th, 50th, and 90th percentiles?\n",
    "3. Given the current projected annual income from the Plaid analysis, will a 4% withdraw rate from the retirement portfolio meet or exceed that value at the 10th percentile?\n",
    "4. How would a 50% increase in the initial investment amount affect the 4% retirement withdrawal?"
   ]
  },
  {
   "cell_type": "markdown",
   "metadata": {},
   "source": [
    "### What are the expected cumulative returns at 30 years for the 10th, 50th, and 90th percentiles?"
   ]
  },
  {
   "cell_type": "code",
   "execution_count": 19,
   "metadata": {},
   "outputs": [
    {
     "name": "stdout",
     "output_type": "stream",
     "text": [
      "0.45    0.160922\n",
      "0.55    0.250392\n",
      "Name: 7560, dtype: float64 0.25    0.073254\n",
      "0.75    0.585681\n",
      "Name: 7560, dtype: float64 0.05    0.015814\n",
      "0.95    2.483868\n",
      "Name: 7560, dtype: float64\n"
     ]
    }
   ],
   "source": [
    "ci10_30 = cum_returns_30.quantile(q=[0.45, 0.55])\n",
    "ci50_30 = cum_returns_30.quantile(q=[0.25, 0.75])\n",
    "print(ci10_30, ci50_30, ci90_30)\n",
    "#The expected cumulative returns are between "
   ]
  },
  {
   "cell_type": "markdown",
   "metadata": {},
   "source": [
    "### Given an initial investment of `$20,000`, what is the expected portfolio return in dollars at the 10th, 50th, and 90th percentiles?"
   ]
  },
  {
   "cell_type": "code",
   "execution_count": 20,
   "metadata": {},
   "outputs": [],
   "source": [
    "\n",
    "investment = 20000\n",
    "\n",
    "investment_lower_10 = investment + (investment * ci10_30.iloc[0])\n",
    "investment_upper_10 = investment + (investment * ci10_30.iloc[1])\n",
    "\n",
    "investment_lower_50 = investment + (investment * ci50_30.iloc[0])\n",
    "investment_upper_50 = investment + (investment * ci50_30.iloc[1])\n",
    "\n",
    "investment_lower_90 = investment + (investment * ci90_30.iloc[0])\n",
    "investment_upper_90 = investment + (investment * ci90_30.iloc[1])\n",
    "\n",
    "inv_lower_10 = round(investment_lower_10,2)\n",
    "inv_upper_10 = round(investment_upper_10,2)\n",
    "inv_lower_50 = round(investment_lower_50,2)\n",
    "inv_upper_50 = round(investment_upper_50,2)\n",
    "inv_lower_90 = round(investment_lower_90,2)\n",
    "inv_upper_90 = round(investment_upper_90,2)\n",
    "\n"
   ]
  },
  {
   "cell_type": "code",
   "execution_count": 21,
   "metadata": {},
   "outputs": [
    {
     "name": "stdout",
     "output_type": "stream",
     "text": [
      "There is a 10% probability that an initial investment of $20,000 will produce a portfolio value between $23,218.45 and $25,007.84 in 30 years\n",
      "There is a 50% probability that an initial investment of $20,000 will produce a portfolio value between $21,465.08 and $31,713.62 in 30 years\n",
      "There is a 90% probability that an initial investment of $20,000 will produce a portfolio value between $20,316.29 and $69,677.37 in 30 years\n"
     ]
    }
   ],
   "source": [
    "print(f\"There is a 10% probability that an initial investment of ${investment:,} will produce a portfolio value between ${inv_lower_10:,} and ${inv_upper_10:,} in 30 years\")\n",
    "print(f\"There is a 50% probability that an initial investment of ${investment:,} will produce a portfolio value between ${inv_lower_50:,} and ${inv_upper_50:,} in 30 years\")\n",
    "print(f\"There is a 90% probability that an initial investment of ${investment:,} will produce a portfolio value between ${inv_lower_90:,} and ${inv_upper_90:,} in 30 years\")"
   ]
  },
  {
   "cell_type": "markdown",
   "metadata": {},
   "source": [
    "### Given the current projected annual income from the Plaid analysis, will a 4% withdraw rate from the retirement portfolio meet or exceed that value at the 10th percentile?\n",
    "\n",
    "Note: This is effectively saying that 90% of the expected returns will be greater than the return at the 10th percentile, so this can help measure the uncertainty about having enough funds at retirement"
   ]
  },
  {
   "cell_type": "code",
   "execution_count": 22,
   "metadata": {},
   "outputs": [
    {
     "name": "stdout",
     "output_type": "stream",
     "text": [
      "812.65 2787.09\n"
     ]
    }
   ],
   "source": [
    "#Interpreting the question as: if you retire in 30 years, can your annual income (assuming it remains constant) be replaced by an initial 4%\n",
    "    #withdrawal from the portfolio at year 30.\n",
    "#Assumption made:  \n",
    "#If initial 4% withdrawal rate is sufficient after 30 years, it will remain so for the remainder of retirement.\n",
    "\n",
    "annual_income = 6085\n",
    "#projected net income as calculated in 'account_summary' file\n",
    "withdrawal_lower_90 = round(inv_lower_90  *.04,2)\n",
    "withdrawal_upper_90 = round(inv_upper_90 * .04,2)\n",
    "\n",
    "print(withdrawal_lower_90, withdrawal_upper_90)   "
   ]
  },
  {
   "cell_type": "code",
   "execution_count": 23,
   "metadata": {},
   "outputs": [
    {
     "name": "stdout",
     "output_type": "stream",
     "text": [
      "There is a 90% probability that a 4% withdrawal rate at year 30 will generate between $812.65 and $2,787.09.\n",
      "Given projected annual net income of $6,085, there a very strong probability that a 4% withdrawal at year 30 with an initial\n",
      "investment of $20,000 will not be sufficient to replace projected net income.\n",
      "Therefore, a larger initial investment and/or a significant reduction in expenses should be undertaken to allow a 4% withdrawal\n",
      "to fully substitute income after retirement.\n"
     ]
    }
   ],
   "source": [
    "print(f\"There is a 90% probability that a 4% withdrawal rate at year 30 will generate between ${withdrawal_lower_90:,} and ${withdrawal_upper_90:,}.\")\n",
    "print(f\"Given projected annual net income of ${annual_income:,}, there a very strong probability that a 4% withdrawal at year 30 with an initial\")\n",
    "print(f\"investment of ${investment:,} will not be sufficient to replace projected net income.\")\n",
    "print(f\"Therefore, a larger initial investment and/or a significant reduction in expenses should be undertaken to allow a 4% withdrawal\")\n",
    "print(f\"to fully substitute income after retirement.\")"
   ]
  },
  {
   "cell_type": "markdown",
   "metadata": {},
   "source": [
    "### How would a 50% increase in the initial investment amount affect the 4% retirement withdrawal?"
   ]
  },
  {
   "cell_type": "code",
   "execution_count": 24,
   "metadata": {},
   "outputs": [
    {
     "name": "stdout",
     "output_type": "stream",
     "text": [
      "There is a 10% probability that an initial investment of $30,000 will produce a portfolio value between $34,827.67 and $37,511.76 in 30 years\n",
      "There is a 50% probability that an initial investment of $30,000 will produce a portfolio value between $32,197.62 and $47,570.43 in 30 years\n",
      "There is a 90% probability that an initial investment of $30,000 will produce a portfolio value between $30,474.43 and $104,516.05 in 30 years\n"
     ]
    }
   ],
   "source": [
    "investment = 30000\n",
    "\n",
    "investment_lower_10 = investment + (investment * ci10_30.iloc[0])\n",
    "investment_upper_10 = investment + (investment * ci10_30.iloc[1])\n",
    "\n",
    "investment_lower_50 = investment + (investment * ci50_30.iloc[0])\n",
    "investment_upper_50 = investment + (investment * ci50_30.iloc[1])\n",
    "\n",
    "investment_lower_90 = investment + (investment * ci90_30.iloc[0])\n",
    "investment_upper_90 = investment + (investment * ci90_30.iloc[1])\n",
    "\n",
    "inv_lower_10 = round(investment_lower_10,2)\n",
    "inv_upper_10 = round(investment_upper_10,2)\n",
    "inv_lower_50 = round(investment_lower_50,2)\n",
    "inv_upper_50 = round(investment_upper_50,2)\n",
    "inv_lower_90 = round(investment_lower_90,2)\n",
    "inv_upper_90 = round(investment_upper_90,2)\n",
    "\n",
    "print(f\"There is a 10% probability that an initial investment of ${investment:,} will produce a portfolio value between ${inv_lower_10:,} and ${inv_upper_10:,} in 30 years\")\n",
    "print(f\"There is a 50% probability that an initial investment of ${investment:,} will produce a portfolio value between ${inv_lower_50:,} and ${inv_upper_50:,} in 30 years\")\n",
    "print(f\"There is a 90% probability that an initial investment of ${investment:,} will produce a portfolio value between ${inv_lower_90:,} and ${inv_upper_90:,} in 30 years\")"
   ]
  },
  {
   "cell_type": "code",
   "execution_count": 25,
   "metadata": {},
   "outputs": [
    {
     "name": "stdout",
     "output_type": "stream",
     "text": [
      "1218.98 4180.64\n"
     ]
    }
   ],
   "source": [
    "annual_income = 6085\n",
    "#projected net income as calculated in 'account_summary' file\n",
    "withdrawal_lower_90 = round(inv_lower_90  *.04,2)\n",
    "withdrawal_upper_90 = round(inv_upper_90 * .04,2)\n",
    "\n",
    "print(withdrawal_lower_90, withdrawal_upper_90) "
   ]
  },
  {
   "cell_type": "code",
   "execution_count": 26,
   "metadata": {},
   "outputs": [
    {
     "name": "stdout",
     "output_type": "stream",
     "text": [
      "There is a 90% probability that a 4% withdrawal rate at year 30 will generate between $1,218.98 and $4,180.64.\n",
      "Given projected annual net income of $6,085, there a very strong probability that a 4% withdrawal at year 30 with an initial\n",
      "investment of $30,000 will not be sufficient to replace projected net income.\n",
      "Therefore, a larger initial investment and/or a significant reduction in expenses should be undertaken to allow a 4% withdrawal\n",
      "to fully substitute income after retirement.\n"
     ]
    }
   ],
   "source": [
    "print(f\"There is a 90% probability that a 4% withdrawal rate at year 30 will generate between ${withdrawal_lower_90:,} and ${withdrawal_upper_90:,}.\")\n",
    "print(f\"Given projected annual net income of ${annual_income:,}, there a very strong probability that a 4% withdrawal at year 30 with an initial\")\n",
    "print(f\"investment of ${investment:,} will not be sufficient to replace projected net income.\")\n",
    "print(f\"Therefore, a larger initial investment and/or a significant reduction in expenses should be undertaken to allow a 4% withdrawal\")\n",
    "print(f\"to fully substitute income after retirement.\")"
   ]
  },
  {
   "cell_type": "markdown",
   "metadata": {},
   "source": [
    "### Optional Challenge\n",
    "\n",
    "In this section, you will calculate and plot the cumulative returns for the median and 90% confidence intervals. This plot shows the expected cumulative returns for any given day between the first day and the last day of investment. "
   ]
  },
  {
   "cell_type": "code",
   "execution_count": null,
   "metadata": {},
   "outputs": [],
   "source": [
    "# YOUR CODE HERE"
   ]
  }
 ],
 "metadata": {
  "kernel_info": {
   "name": "dev"
  },
  "kernelspec": {
   "display_name": "Python PyViz",
   "language": "python",
   "name": "pyviz"
  },
  "language_info": {
   "codemirror_mode": {
    "name": "ipython",
    "version": 3
   },
   "file_extension": ".py",
   "mimetype": "text/x-python",
   "name": "python",
   "nbconvert_exporter": "python",
   "pygments_lexer": "ipython3",
   "version": "3.7.7"
  },
  "nteract": {
   "version": "0.12.3"
  }
 },
 "nbformat": 4,
 "nbformat_minor": 4
}
